{
 "cells": [
  {
   "cell_type": "markdown",
   "metadata": {},
   "source": [
    "# 作業\n",
    "* 在精簡深度學習的方式上 : 卷積類神經 (CNN) 採用像素遠近，而遞歸類神經 (RNN) 採用著則是時間遠近\n",
    "* 那麼，既然有著類似的設計精神，兩者是否有可能互換應用呢?"
   ]
  },
  {
   "cell_type": "code",
   "execution_count": null,
   "metadata": {
    "collapsed": true
   },
   "outputs": [],
   "source": [
    "兩者適合的應用不一樣\n",
    "\n",
    "CNN對特徵的響應是線性的，RNN在這個遞進方向上是非線性響應的。這也帶來了很大的差別。\n",
    "\n",
    "CNN 專門解決影象問題的，可用把它看作特徵提取層，放在輸入層上，最後用MLP 做分類。 \n",
    "RNN 專門解決時間序列問題的，用來提取時間序列資訊，放在特徵提取層（如CNN）之後。\n",
    "\n",
    "RNN，遞迴型網路，用於序列資料，並且有了一定的記憶效應，輔之以lstm。 \n",
    "CNN應該側重空間對映，影象資料尤為貼合此場景。\n",
    "\n",
    "CNN 卷積擅長從區域性特徵逼近整體特徵， \n",
    "RNN 擅長對付時間序列。\n",
    "\n",
    "不過要是提供充足資料給 CNN，它也能用於處理影片、語音、音樂和文字。"
   ]
  }
 ],
 "metadata": {
  "kernelspec": {
   "display_name": "Python 3",
   "language": "python",
   "name": "python3"
  },
  "language_info": {
   "codemirror_mode": {
    "name": "ipython",
    "version": 3
   },
   "file_extension": ".py",
   "mimetype": "text/x-python",
   "name": "python",
   "nbconvert_exporter": "python",
   "pygments_lexer": "ipython3",
   "version": "3.6.4"
  }
 },
 "nbformat": 4,
 "nbformat_minor": 2
}
