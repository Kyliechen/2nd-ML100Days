{
 "cells": [
  {
   "cell_type": "markdown",
   "metadata": {},
   "source": [
    "## [作業重點]\n",
    "確保你了解隨機森林模型中每個超參數的意義，並觀察調整超參數對結果的影響"
   ]
  },
  {
   "cell_type": "markdown",
   "metadata": {},
   "source": [
    "## 作業\n",
    "\n",
    "1. 試著調整 RandomForestClassifier(...) 中的參數，並觀察是否會改變結果？\n",
    "2. 改用其他資料集 (boston, wine)，並與回歸模型與決策樹的結果進行比較"
   ]
  },
  {
   "cell_type": "code",
   "execution_count": 5,
   "metadata": {},
   "outputs": [
    {
     "name": "stdout",
     "output_type": "stream",
     "text": [
      "Accuracy for 10 trees:  0.9736842105263158\n",
      "Accuracy for 20 trees:  0.9736842105263158\n",
      "Feature importance for 10 trees:  [0.06217931 0.05288578 0.45564281 0.4292921 ]\n",
      "Feature importance for 20 trees:  [0.08426299 0.04164493 0.43344805 0.44064403]\n"
     ]
    }
   ],
   "source": [
    "from sklearn import datasets, metrics\n",
    "from sklearn.ensemble import RandomForestClassifier\n",
    "from sklearn.model_selection import train_test_split\n",
    "\n",
    "iris = datasets.load_iris()\n",
    "ixtr, ixte, iytr, iyte = train_test_split(iris.data, iris.target, test_size=0.25, random_state=4)\n",
    "clf0 = RandomForestClassifier(n_estimators=10)\n",
    "clf1 = RandomForestClassifier(n_estimators=20)\n",
    "clf0.fit(ixtr, iytr)\n",
    "clf1.fit(ixtr, iytr)\n",
    "iyp0=clf0.predict(ixte)\n",
    "iyp1=clf1.predict(ixte)\n",
    "\n",
    "acc0=metrics.accuracy_score(iyte, iyp0)\n",
    "acc1=metrics.accuracy_score(iyte, iyp1)\n",
    "\n",
    "print(\"Accuracy for 10 trees: \", acc0)\n",
    "print(\"Accuracy for 20 trees: \", acc1)\n",
    "\n",
    "print(\"Feature importance for 10 trees: \", clf0.feature_importances_)\n",
    "print(\"Feature importance for 20 trees: \", clf1.feature_importances_)"
   ]
  },
  {
   "cell_type": "code",
   "execution_count": 10,
   "metadata": {},
   "outputs": [
    {
     "name": "stdout",
     "output_type": "stream",
     "text": [
      "MSE:  3490.8118243243243\n"
     ]
    }
   ],
   "source": [
    "from sklearn.ensemble import RandomForestRegressor\n",
    "diab=datasets.load_diabetes()\n",
    "dxtr,dxte,dytr,dyte=train_test_split(diab.data, diab.target, test_size=0.25, random_state=4)\n",
    "rg=RandomForestRegressor(n_estimators=20)\n",
    "rg.fit(dxtr, dytr)\n",
    "d_pred = rg.predict(dxte)\n",
    "err = metrics.mean_squared_error(dyte, d_pred)\n",
    "print(\"MSE: \", err)"
   ]
  },
  {
   "cell_type": "code",
   "execution_count": null,
   "metadata": {},
   "outputs": [],
   "source": []
  }
 ],
 "metadata": {
  "kernelspec": {
   "display_name": "Python 3",
   "language": "python",
   "name": "python3"
  },
  "language_info": {
   "codemirror_mode": {
    "name": "ipython",
    "version": 3
   },
   "file_extension": ".py",
   "mimetype": "text/x-python",
   "name": "python",
   "nbconvert_exporter": "python",
   "pygments_lexer": "ipython3",
   "version": "3.6.4"
  }
 },
 "nbformat": 4,
 "nbformat_minor": 2
}
