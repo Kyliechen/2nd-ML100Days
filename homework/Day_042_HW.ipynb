{
 "cells": [
  {
   "cell_type": "markdown",
   "metadata": {},
   "source": [
    "## [作業重點]\n",
    "目前你應該已經要很清楚資料集中，資料的型態是什麼樣子囉！包含特徵 (features) 與標籤 (labels)。因此要記得未來不管什麼專案，必須要把資料清理成相同的格式，才能送進模型訓練。\n",
    "今天的作業開始踏入決策樹這個非常重要的模型，請務必確保你理解模型中每個超參數的意思，並試著調整看看，對最終預測結果的影響為何"
   ]
  },
  {
   "cell_type": "markdown",
   "metadata": {},
   "source": [
    "## 作業\n",
    "\n",
    "1. 試著調整 DecisionTreeClassifier(...) 中的參數，並觀察是否會改變結果？\n",
    "2. 改用其他資料集 (boston, wine)，並與回歸模型的結果進行比較"
   ]
  },
  {
   "cell_type": "code",
   "execution_count": 21,
   "metadata": {},
   "outputs": [
    {
     "name": "stdout",
     "output_type": "stream",
     "text": [
      "Accuracy0:  0.9736842105263158\n",
      "Feature importance0:  [0.         0.01796599 0.05992368 0.92211033]\n"
     ]
    }
   ],
   "source": [
    "from sklearn import datasets, metrics\n",
    "from sklearn.linear_model import LinearRegression\n",
    "from sklearn.tree import DecisionTreeClassifier, DecisionTreeRegressor\n",
    "from sklearn.model_selection import train_test_split\n",
    "\n",
    "iris = datasets.load_iris()\n",
    "ix_train, ix_test, iy_train, iy_test = train_test_split(iris.data, iris.target, test_size=0.25, random_state=4)\n",
    "clf0 = DecisionTreeClassifier()\n",
    "clf0.fit(ix_train, iy_train)\n",
    "iy0_pred = clf0.predict(ix_test)\n",
    "acc0 = metrics.accuracy_score(iy_test, iy0_pred)\n",
    "print(\"Accuracy0: \", acc0)\n",
    "print(\"Feature importance0: \", clf0.feature_importances_)\n",
    "\n",
    "###\n",
    "#from sklearn.externals.six import StringIO  \n",
    "#from IPython.display import Image\n",
    "#from sklearn.tree import export_graphviz\n",
    "#import pydotplus\n",
    "\n",
    "#dot_data = StringIO()\n",
    "#export_graphviz(clf0, out_file=dot_data,\n",
    "#                filled=True, rounded=True,\n",
    "#                special_characters=True)\n",
    "#graph = pydotplus.graph_from_dot_data(dot_data.getvalue())  \n",
    "#Image(graph.create_png())\n"
   ]
  },
  {
   "cell_type": "code",
   "execution_count": 17,
   "metadata": {},
   "outputs": [
    {
     "name": "stdout",
     "output_type": "stream",
     "text": [
      "Accuracy1:  0.9736842105263158\n",
      "Feature importance1:  [0.         0.0156062  0.62264163 0.36175217]\n"
     ]
    }
   ],
   "source": [
    "clf1 = DecisionTreeClassifier(criterion='entropy')\n",
    "clf1.fit(ix_train, iy_train)\n",
    "iy1_pred = clf1.predict(ix_test)\n",
    "acc1 = metrics.accuracy_score(iy_test, iy1_pred)\n",
    "print(\"Accuracy1: \", acc1)\n",
    "print(\"Feature importance1: \", clf1.feature_importances_)"
   ]
  },
  {
   "cell_type": "code",
   "execution_count": 19,
   "metadata": {},
   "outputs": [
    {
     "name": "stdout",
     "output_type": "stream",
     "text": [
      "Accuracy:  3.6346456692913387\n",
      "Feature importance:  [0.06667421 0.00123526 0.00171744 0.00956283 0.02932081 0.54168893\n",
      " 0.01896041 0.06049557 0.00066222 0.01006438 0.02551818 0.00995901\n",
      " 0.22414074]\n"
     ]
    }
   ],
   "source": [
    "boston = datasets.load_boston()\n",
    "bx_train, bx_test, by_train, by_test = train_test_split(boston.data, boston.target, test_size=0.25, random_state=4)\n",
    "\n",
    "dtr = DecisionTreeRegressor()\n",
    "dtr.fit(bx_train, by_train)\n",
    "by_pred = dtr.predict(bx_test)\n",
    "acc_dtr = metrics.mean_absolute_error(by_test, by_pred)\n",
    "\n",
    "print(\"Accuracy: \", acc_dtr)\n",
    "print(\"Feature importance: \", dtr.feature_importances_)"
   ]
  },
  {
   "cell_type": "code",
   "execution_count": 23,
   "metadata": {},
   "outputs": [
    {
     "name": "stdout",
     "output_type": "stream",
     "text": [
      "Accuracy:  3.6346456692913387\n"
     ]
    }
   ],
   "source": [
    "lr = LinearRegression()\n",
    "lr.fit(bx_train, by_train)\n",
    "lr_pred = lr.predict(bx_test)\n",
    "acc_lr = metrics.mean_absolute_error(by_test, by_pred)\n",
    "\n",
    "print(\"Accuracy: \", acc_lr)"
   ]
  },
  {
   "cell_type": "code",
   "execution_count": null,
   "metadata": {},
   "outputs": [],
   "source": []
  }
 ],
 "metadata": {
  "kernelspec": {
   "display_name": "Python 3",
   "language": "python",
   "name": "python3"
  },
  "language_info": {
   "codemirror_mode": {
    "name": "ipython",
    "version": 3
   },
   "file_extension": ".py",
   "mimetype": "text/x-python",
   "name": "python",
   "nbconvert_exporter": "python",
   "pygments_lexer": "ipython3",
   "version": "3.6.4"
  }
 },
 "nbformat": 4,
 "nbformat_minor": 2
}
