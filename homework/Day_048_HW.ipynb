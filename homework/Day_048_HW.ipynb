{
 "cells": [
  {
   "cell_type": "code",
   "execution_count": 1,
   "metadata": {},
   "outputs": [],
   "source": [
    "import numpy as np\n",
    "import pandas as pd\n",
    "from sklearn.metrics import accuracy_score\n",
    "from sklearn.model_selection import cross_val_score, GridSearchCV\n",
    "from sklearn.ensemble import RandomForestClassifier"
   ]
  },
  {
   "cell_type": "code",
   "execution_count": 2,
   "metadata": {},
   "outputs": [],
   "source": [
    "path = './data/data-science-london-scikit-learn/'\n",
    "datafile = 'train.csv'\n",
    "lablefile = 'trainLabels.csv'\n",
    "testfile = 'test.csv'\n",
    "ansfile = path+'testLables.csv'\n",
    "\n",
    "train_data = pd.read_csv(path+datafile, header = None)\n",
    "train_label = pd.read_csv(path+lablefile, header = None)\n",
    "test_data = pd.read_csv(path+testfile, header = None)"
   ]
  },
  {
   "cell_type": "code",
   "execution_count": 3,
   "metadata": {},
   "outputs": [
    {
     "name": "stdout",
     "output_type": "stream",
     "text": [
      "<class 'pandas.core.frame.DataFrame'>\n",
      "RangeIndex: 1000 entries, 0 to 999\n",
      "Data columns (total 40 columns):\n",
      "0     1000 non-null float64\n",
      "1     1000 non-null float64\n",
      "2     1000 non-null float64\n",
      "3     1000 non-null float64\n",
      "4     1000 non-null float64\n",
      "5     1000 non-null float64\n",
      "6     1000 non-null float64\n",
      "7     1000 non-null float64\n",
      "8     1000 non-null float64\n",
      "9     1000 non-null float64\n",
      "10    1000 non-null float64\n",
      "11    1000 non-null float64\n",
      "12    1000 non-null float64\n",
      "13    1000 non-null float64\n",
      "14    1000 non-null float64\n",
      "15    1000 non-null float64\n",
      "16    1000 non-null float64\n",
      "17    1000 non-null float64\n",
      "18    1000 non-null float64\n",
      "19    1000 non-null float64\n",
      "20    1000 non-null float64\n",
      "21    1000 non-null float64\n",
      "22    1000 non-null float64\n",
      "23    1000 non-null float64\n",
      "24    1000 non-null float64\n",
      "25    1000 non-null float64\n",
      "26    1000 non-null float64\n",
      "27    1000 non-null float64\n",
      "28    1000 non-null float64\n",
      "29    1000 non-null float64\n",
      "30    1000 non-null float64\n",
      "31    1000 non-null float64\n",
      "32    1000 non-null float64\n",
      "33    1000 non-null float64\n",
      "34    1000 non-null float64\n",
      "35    1000 non-null float64\n",
      "36    1000 non-null float64\n",
      "37    1000 non-null float64\n",
      "38    1000 non-null float64\n",
      "39    1000 non-null float64\n",
      "dtypes: float64(40)\n",
      "memory usage: 312.6 KB\n"
     ]
    }
   ],
   "source": [
    "train_data.info() #non-null"
   ]
  },
  {
   "cell_type": "code",
   "execution_count": 7,
   "metadata": {},
   "outputs": [
    {
     "name": "stdout",
     "output_type": "stream",
     "text": [
      "Random Forest 0.8290000000000001\n",
      "{'bootstrap': True, 'class_weight': None, 'criterion': 'gini', 'max_depth': None, 'max_features': 'auto', 'max_leaf_nodes': None, 'min_impurity_decrease': 0.0, 'min_impurity_split': None, 'min_samples_leaf': 1, 'min_samples_split': 2, 'min_weight_fraction_leaf': 0.0, 'n_estimators': 10, 'n_jobs': 1, 'oob_score': False, 'random_state': 99, 'verbose': 0, 'warm_start': False}\n"
     ]
    }
   ],
   "source": [
    "rf = RandomForestClassifier(random_state=99)\n",
    "print('Random Forest',cross_val_score(rf, train_data, train_label.values.ravel(), cv=10, scoring='accuracy').mean())\n",
    "print(rf.get_params())"
   ]
  },
  {
   "cell_type": "code",
   "execution_count": 11,
   "metadata": {},
   "outputs": [
    {
     "name": "stdout",
     "output_type": "stream",
     "text": [
      "{'bootstrap': True, 'class_weight': None, 'criterion': 'gini', 'max_depth': 20, 'max_features': 'auto', 'max_leaf_nodes': None, 'min_impurity_decrease': 0.0, 'min_impurity_split': None, 'min_samples_leaf': 1, 'min_samples_split': 2, 'min_weight_fraction_leaf': 0.0, 'n_estimators': 300, 'n_jobs': 1, 'oob_score': False, 'random_state': 99, 'verbose': 0, 'warm_start': False}\n"
     ]
    }
   ],
   "source": [
    "n_estimators = [50, 100, 200, 300]\n",
    "max_depth = [3, 5, 10, 20]\n",
    "grid_param = {'n_estimators': n_estimators, 'max_depth': max_depth}\n",
    "cand = GridSearchCV(estimator=rf, param_grid=grid_param, scoring='accuracy', cv=5, n_jobs=-1).fit(train_data, train_label.values.ravel())\n",
    "best_rf = cand.best_estimator_\n",
    "print(best_rf.get_params())"
   ]
  },
  {
   "cell_type": "code",
   "execution_count": 12,
   "metadata": {},
   "outputs": [
    {
     "name": "stdout",
     "output_type": "stream",
     "text": [
      "Random Forest 0.875\n"
     ]
    }
   ],
   "source": [
    "print('Random Forest',cross_val_score(best_rf, train_data, train_label.values.ravel(), cv=10, scoring='accuracy').mean())"
   ]
  },
  {
   "cell_type": "code",
   "execution_count": 20,
   "metadata": {},
   "outputs": [
    {
     "name": "stdout",
     "output_type": "stream",
     "text": [
      "        Id  Solution\n",
      "0        1         1\n",
      "1        2         0\n",
      "2        3         1\n",
      "3        4         0\n",
      "4        5         0\n",
      "5        6         0\n",
      "6        7         0\n",
      "7        8         1\n",
      "8        9         0\n",
      "9       10         0\n",
      "10      11         1\n",
      "11      12         1\n",
      "12      13         1\n",
      "13      14         1\n",
      "14      15         0\n",
      "15      16         1\n",
      "16      17         0\n",
      "17      18         1\n",
      "18      19         1\n",
      "19      20         1\n",
      "20      21         0\n",
      "21      22         1\n",
      "22      23         0\n",
      "23      24         0\n",
      "24      25         1\n",
      "25      26         1\n",
      "26      27         1\n",
      "27      28         0\n",
      "28      29         1\n",
      "29      30         0\n",
      "...    ...       ...\n",
      "8970  8971         1\n",
      "8971  8972         0\n",
      "8972  8973         1\n",
      "8973  8974         1\n",
      "8974  8975         0\n",
      "8975  8976         1\n",
      "8976  8977         0\n",
      "8977  8978         1\n",
      "8978  8979         1\n",
      "8979  8980         1\n",
      "8980  8981         1\n",
      "8981  8982         1\n",
      "8982  8983         1\n",
      "8983  8984         0\n",
      "8984  8985         0\n",
      "8985  8986         1\n",
      "8986  8987         0\n",
      "8987  8988         0\n",
      "8988  8989         1\n",
      "8989  8990         0\n",
      "8990  8991         0\n",
      "8991  8992         0\n",
      "8992  8993         0\n",
      "8993  8994         1\n",
      "8994  8995         1\n",
      "8995  8996         1\n",
      "8996  8997         1\n",
      "8997  8998         1\n",
      "8998  8999         0\n",
      "8999  9000         1\n",
      "\n",
      "[9000 rows x 2 columns]\n"
     ]
    }
   ],
   "source": [
    "best_rf.fit(train_data, train_label.values.ravel())\n",
    "pred = best_rf.predict(test_data)\n",
    "test_pred = pd.DataFrame(pred)\n",
    "#test_pred.index+=1 #id start from 1\n",
    "\n",
    "test_pred.columns = ['Solution']\n",
    "test_pred['Id'] = np.arange(1, test_pred.shape[0]+1)\n",
    "test_pred = test_pred[['Id', 'Solution']]\n",
    "print(test_pred)\n",
    "test_pred.to_csv(ansfile,index=False)"
   ]
  },
  {
   "cell_type": "code",
   "execution_count": null,
   "metadata": {},
   "outputs": [],
   "source": []
  }
 ],
 "metadata": {
  "kernelspec": {
   "display_name": "Python 3",
   "language": "python",
   "name": "python3"
  },
  "language_info": {
   "codemirror_mode": {
    "name": "ipython",
    "version": 3
   },
   "file_extension": ".py",
   "mimetype": "text/x-python",
   "name": "python",
   "nbconvert_exporter": "python",
   "pygments_lexer": "ipython3",
   "version": "3.6.4"
  }
 },
 "nbformat": 4,
 "nbformat_minor": 2
}
