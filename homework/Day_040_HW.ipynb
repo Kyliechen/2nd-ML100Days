{
 "cells": [
  {
   "cell_type": "markdown",
   "metadata": {},
   "source": [
    "## [作業重點]\n",
    "使用 Sklearn 中的 Lasso, Ridge 模型，來訓練各種資料集，務必了解送進去模型訓練的**資料型態**為何，也請了解模型中各項參數的意義。\n",
    "\n",
    "機器學習的模型非常多種，但要訓練的資料多半有固定的格式，確保你了解訓練資料的格式為何，這樣在應用新模型時，就能夠最快的上手開始訓練！"
   ]
  },
  {
   "cell_type": "markdown",
   "metadata": {},
   "source": [
    "## 練習時間\n",
    "試著使用 sklearn datasets 的其他資料集 (boston, ...)，來訓練自己的線性迴歸模型，並加上適當的正則話來觀察訓練情形。"
   ]
  },
  {
   "cell_type": "code",
   "execution_count": 3,
   "metadata": {},
   "outputs": [
    {
     "name": "stdout",
     "output_type": "stream",
     "text": [
      "[-0.11459839  0.05678739 -0.06011968  2.43636946 -0.          3.15301549\n",
      " -0.01186498 -1.2880925   0.30666581 -0.01574493 -0.66530959  0.01009966\n",
      " -0.5666523 ]\n",
      "Mean squared error: 30.63\n"
     ]
    }
   ],
   "source": [
    "import matplotlib as plt\n",
    "from sklearn import datasets, linear_model\n",
    "from sklearn.model_selection import train_test_split\n",
    "from sklearn.metrics import mean_squared_error,r2_score\n",
    "\n",
    "boston = datasets.load_boston()\n",
    "btrain_x, btest_x, btrain_y, btest_y = train_test_split(boston.data, boston.target, test_size=0.3, random_state=4)\n",
    "\n",
    "BLasso = linear_model.Lasso(alpha=0.1)\n",
    "BLasso.fit(btrain_x, btrain_y)\n",
    "by_pred = BLasso.predict(btest_x)\n",
    "print(BLasso.coef_)\n",
    "\n",
    "print(\"Mean squared error: %.2f\"\n",
    "      % mean_squared_error(btest_y, by_pred))"
   ]
  },
  {
   "cell_type": "code",
   "execution_count": 9,
   "metadata": {},
   "outputs": [
    {
     "name": "stdout",
     "output_type": "stream",
     "text": [
      "[-0.10868129  0.0167836  -0.21758328  0.04652221  0.00034174  0.12146469\n",
      " -0.32432992 -0.17652621  0.03688698  0.07593367 -0.15402058 -0.28450558\n",
      " -0.00075365]\n",
      "Mean squared error: 0.07\n",
      "[-1.09099883e-01  1.67405249e-02 -2.18753671e-01  4.66803998e-02\n",
      "  3.20692287e-04  1.24491691e-01 -3.26192950e-01 -1.91327414e-01\n",
      "  3.72016066e-02  7.57429505e-02 -1.55979636e-01 -2.85946973e-01\n",
      " -7.51809245e-04]\n",
      "Mean squared error: 0.07\n"
     ]
    }
   ],
   "source": [
    "wine = datasets.load_wine()\n",
    "wtrain_x, wtest_x, wtrain_y, wtest_y = train_test_split(wine.data, wine.target, test_size=0.2, random_state=4)\n",
    "\n",
    "ridge = linear_model.Ridge(alpha=0.1)\n",
    "\n",
    "ridge.fit(wtrain_x, wtrain_y)\n",
    "rw_pred = ridge.predict(wtest_x)\n",
    "print(ridge.coef_)\n",
    "print(\"Mean squared error: %.2f\" % mean_squared_error(wtest_y,rw_pred))\n",
    "\n",
    "linear = linear_model.LinearRegression()\n",
    "linear.fit(wtrain_x, wtrain_y)\n",
    "lw_pred=linear.predict(wtest_x)\n",
    "print(linear.coef_)\n",
    "print(\"Mean squared error: %.2f\" % mean_squared_error(wtest_y,lw_pred))"
   ]
  },
  {
   "cell_type": "code",
   "execution_count": null,
   "metadata": {},
   "outputs": [],
   "source": []
  }
 ],
 "metadata": {
  "kernelspec": {
   "display_name": "Python 3",
   "language": "python",
   "name": "python3"
  },
  "language_info": {
   "codemirror_mode": {
    "name": "ipython",
    "version": 3
   },
   "file_extension": ".py",
   "mimetype": "text/x-python",
   "name": "python",
   "nbconvert_exporter": "python",
   "pygments_lexer": "ipython3",
   "version": "3.6.4"
  }
 },
 "nbformat": 4,
 "nbformat_minor": 2
}
